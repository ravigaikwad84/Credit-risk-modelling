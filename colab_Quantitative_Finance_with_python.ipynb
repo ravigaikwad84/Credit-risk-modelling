{
  "nbformat": 4,
  "nbformat_minor": 0,
  "metadata": {
    "colab": {
      "name": "colab_Quantitative Finance with python.ipynb",
      "provenance": [],
      "collapsed_sections": [],
      "authorship_tag": "ABX9TyMQez6hfcd6iI7ryKiMNtG2",
      "include_colab_link": true
    },
    "kernelspec": {
      "name": "python3",
      "display_name": "Python 3"
    },
    "language_info": {
      "name": "python"
    }
  },
  "cells": [
    {
      "cell_type": "markdown",
      "metadata": {
        "id": "view-in-github",
        "colab_type": "text"
      },
      "source": [
        "<a href=\"https://colab.research.google.com/github/ravigaikwad84/Credit-risk-modelling/blob/main/colab_Quantitative_Finance_with_python.ipynb\" target=\"_parent\"><img src=\"https://colab.research.google.com/assets/colab-badge.svg\" alt=\"Open In Colab\"/></a>"
      ]
    },
    {
      "cell_type": "code",
      "execution_count": 1,
      "metadata": {
        "id": "ImyCpp4ifJvU"
      },
      "outputs": [],
      "source": [
        "import pandas as pd\n",
        "import numpy as np\n",
        "import seaborn as sns\n",
        "import matplotlib.pyplot as plt\n",
        "%matplotlib inline"
      ]
    },
    {
      "cell_type": "code",
      "source": [
        "!pip install yfinance"
      ],
      "metadata": {
        "colab": {
          "base_uri": "https://localhost:8080/"
        },
        "id": "dnRNetqvfYvM",
        "outputId": "d4ae254f-1fd9-4e64-a98e-a8e943ff6b7b"
      },
      "execution_count": 2,
      "outputs": [
        {
          "output_type": "stream",
          "name": "stdout",
          "text": [
            "Collecting yfinance\n",
            "  Downloading yfinance-0.1.70-py2.py3-none-any.whl (26 kB)\n",
            "Requirement already satisfied: multitasking>=0.0.7 in /usr/local/lib/python3.7/dist-packages (from yfinance) (0.0.10)\n",
            "Requirement already satisfied: numpy>=1.15 in /usr/local/lib/python3.7/dist-packages (from yfinance) (1.21.5)\n",
            "Requirement already satisfied: pandas>=0.24.0 in /usr/local/lib/python3.7/dist-packages (from yfinance) (1.3.5)\n",
            "Collecting requests>=2.26\n",
            "  Downloading requests-2.27.1-py2.py3-none-any.whl (63 kB)\n",
            "\u001b[K     |████████████████████████████████| 63 kB 964 kB/s \n",
            "\u001b[?25hCollecting lxml>=4.5.1\n",
            "  Downloading lxml-4.8.0-cp37-cp37m-manylinux_2_17_x86_64.manylinux2014_x86_64.manylinux_2_24_x86_64.whl (6.4 MB)\n",
            "\u001b[K     |████████████████████████████████| 6.4 MB 10.6 MB/s \n",
            "\u001b[?25hRequirement already satisfied: pytz>=2017.3 in /usr/local/lib/python3.7/dist-packages (from pandas>=0.24.0->yfinance) (2018.9)\n",
            "Requirement already satisfied: python-dateutil>=2.7.3 in /usr/local/lib/python3.7/dist-packages (from pandas>=0.24.0->yfinance) (2.8.2)\n",
            "Requirement already satisfied: six>=1.5 in /usr/local/lib/python3.7/dist-packages (from python-dateutil>=2.7.3->pandas>=0.24.0->yfinance) (1.15.0)\n",
            "Requirement already satisfied: certifi>=2017.4.17 in /usr/local/lib/python3.7/dist-packages (from requests>=2.26->yfinance) (2021.10.8)\n",
            "Requirement already satisfied: idna<4,>=2.5 in /usr/local/lib/python3.7/dist-packages (from requests>=2.26->yfinance) (2.10)\n",
            "Requirement already satisfied: urllib3<1.27,>=1.21.1 in /usr/local/lib/python3.7/dist-packages (from requests>=2.26->yfinance) (1.24.3)\n",
            "Requirement already satisfied: charset-normalizer~=2.0.0 in /usr/local/lib/python3.7/dist-packages (from requests>=2.26->yfinance) (2.0.12)\n",
            "Installing collected packages: requests, lxml, yfinance\n",
            "  Attempting uninstall: requests\n",
            "    Found existing installation: requests 2.23.0\n",
            "    Uninstalling requests-2.23.0:\n",
            "      Successfully uninstalled requests-2.23.0\n",
            "  Attempting uninstall: lxml\n",
            "    Found existing installation: lxml 4.2.6\n",
            "    Uninstalling lxml-4.2.6:\n",
            "      Successfully uninstalled lxml-4.2.6\n",
            "\u001b[31mERROR: pip's dependency resolver does not currently take into account all the packages that are installed. This behaviour is the source of the following dependency conflicts.\n",
            "google-colab 1.0.0 requires requests~=2.23.0, but you have requests 2.27.1 which is incompatible.\n",
            "datascience 0.10.6 requires folium==0.2.1, but you have folium 0.8.3 which is incompatible.\u001b[0m\n",
            "Successfully installed lxml-4.8.0 requests-2.27.1 yfinance-0.1.70\n"
          ]
        }
      ]
    },
    {
      "cell_type": "code",
      "source": [
        "import yfinance as yf"
      ],
      "metadata": {
        "id": "KT3_USSsfl60"
      },
      "execution_count": 3,
      "outputs": []
    },
    {
      "cell_type": "code",
      "source": [
        "PG=yf.Ticker('PG')\n",
        "PG"
      ],
      "metadata": {
        "colab": {
          "base_uri": "https://localhost:8080/"
        },
        "id": "k_UiJHh6fmA6",
        "outputId": "0e0f585a-d7a6-45b2-fca2-62ddba6e06b7"
      },
      "execution_count": 17,
      "outputs": [
        {
          "output_type": "execute_result",
          "data": {
            "text/plain": [
              "yfinance.Ticker object <PG>"
            ]
          },
          "metadata": {},
          "execution_count": 17
        }
      ]
    },
    {
      "cell_type": "code",
      "source": [
        "PG.info"
      ],
      "metadata": {
        "colab": {
          "base_uri": "https://localhost:8080/"
        },
        "id": "-W8njM0EfmDq",
        "outputId": "e01d6fae-64ff-4a03-b709-4dc2ce51599c"
      },
      "execution_count": 18,
      "outputs": [
        {
          "output_type": "execute_result",
          "data": {
            "text/plain": [
              "{'52WeekChange': 0.13660681,\n",
              " 'SandP52WeekChange': 0.11475241,\n",
              " 'address1': 'One Procter & Gamble Plaza',\n",
              " 'algorithm': None,\n",
              " 'annualHoldingsTurnover': None,\n",
              " 'annualReportExpenseRatio': None,\n",
              " 'ask': 152.83,\n",
              " 'askSize': 800,\n",
              " 'averageDailyVolume10Day': 5795020,\n",
              " 'averageVolume': 8333044,\n",
              " 'averageVolume10days': 5795020,\n",
              " 'beta': 0.452755,\n",
              " 'beta3Year': None,\n",
              " 'bid': 152.79,\n",
              " 'bidSize': 800,\n",
              " 'bookValue': 18.256,\n",
              " 'category': None,\n",
              " 'circulatingSupply': None,\n",
              " 'city': 'Cincinnati',\n",
              " 'companyOfficers': [],\n",
              " 'country': 'United States',\n",
              " 'currency': 'USD',\n",
              " 'currentPrice': 153.1,\n",
              " 'currentRatio': 0.672,\n",
              " 'dateShortInterest': 1647302400,\n",
              " 'dayHigh': 154.3401,\n",
              " 'dayLow': 151.26,\n",
              " 'debtToEquity': 79.418,\n",
              " 'dividendRate': 3.48,\n",
              " 'dividendYield': 0.0224,\n",
              " 'earningsGrowth': 0.126,\n",
              " 'earningsQuarterlyGrowth': 0.096,\n",
              " 'ebitda': 21170999296,\n",
              " 'ebitdaMargins': 0.27021998,\n",
              " 'enterpriseToEbitda': 18.752,\n",
              " 'enterpriseToRevenue': 5.067,\n",
              " 'enterpriseValue': 397000933376,\n",
              " 'exDividendDate': 1642636800,\n",
              " 'exchange': 'NYQ',\n",
              " 'exchangeTimezoneName': 'America/New_York',\n",
              " 'exchangeTimezoneShortName': 'EDT',\n",
              " 'expireDate': None,\n",
              " 'fiftyDayAverage': 155.2336,\n",
              " 'fiftyTwoWeekHigh': 165.35,\n",
              " 'fiftyTwoWeekLow': 130.29,\n",
              " 'financialCurrency': 'USD',\n",
              " 'fiveYearAverageReturn': None,\n",
              " 'fiveYearAvgDividendYield': 2.73,\n",
              " 'floatShares': 2394452904,\n",
              " 'forwardEps': 6.37,\n",
              " 'forwardPE': 24.034538,\n",
              " 'freeCashflow': 11721624576,\n",
              " 'fromCurrency': None,\n",
              " 'fullTimeEmployees': 101000,\n",
              " 'fundFamily': None,\n",
              " 'fundInceptionDate': None,\n",
              " 'gmtOffSetMilliseconds': '-14400000',\n",
              " 'grossMargins': 0.49445,\n",
              " 'grossProfits': 39144000000,\n",
              " 'heldPercentInsiders': 0.0011,\n",
              " 'heldPercentInstitutions': 0.66018,\n",
              " 'impliedSharesOutstanding': 0,\n",
              " 'industry': 'Household & Personal Products',\n",
              " 'isEsgPopulated': False,\n",
              " 'lastCapGain': None,\n",
              " 'lastDividendDate': 1642636800,\n",
              " 'lastDividendValue': 0.8698,\n",
              " 'lastFiscalYearEnd': 1625011200,\n",
              " 'lastMarket': None,\n",
              " 'lastSplitDate': 1087776000,\n",
              " 'lastSplitFactor': '2:1',\n",
              " 'legalType': None,\n",
              " 'logo_url': 'https://logo.clearbit.com/pginvestor.com',\n",
              " 'longBusinessSummary': 'The Procter & Gamble Company provides branded consumer packaged goods to consumers in North and Latin America, Europe, the Asia Pacific, Greater China, India, the Middle East, and Africa. It operates in five segments: Beauty; Grooming; Health Care; Fabric & Home Care; and Baby, Feminine & Family Care. The Beauty segment offers conditioners, shampoos, styling aids, and treatments; and antiperspirants and deodorants, personal cleansing, and skin care products under the Head & Shoulders, Herbal Essences, Pantene, Rejoice, Olay, Old Spice, Safeguard, Secret, and SK-II brands. The Procter & Gamble Company was founded in 1837 and is headquartered in Cincinnati, Ohio.',\n",
              " 'longName': 'The Procter & Gamble Company',\n",
              " 'market': 'us_market',\n",
              " 'marketCap': 366991441920,\n",
              " 'maxAge': 1,\n",
              " 'maxSupply': None,\n",
              " 'messageBoardId': 'finmb_33328',\n",
              " 'morningStarOverallRating': None,\n",
              " 'morningStarRiskRating': None,\n",
              " 'mostRecentQuarter': 1640908800,\n",
              " 'navPrice': None,\n",
              " 'netIncomeToCommon': 14231000064,\n",
              " 'nextFiscalYearEnd': 1688083200,\n",
              " 'numberOfAnalystOpinions': 22,\n",
              " 'open': 153.81,\n",
              " 'openInterest': None,\n",
              " 'operatingCashflow': 17972000768,\n",
              " 'operatingMargins': 0.23464,\n",
              " 'payoutRatio': 0.59970003,\n",
              " 'pegRatio': 3.84,\n",
              " 'phone': '513 983 1100',\n",
              " 'preMarketPrice': 153.65,\n",
              " 'previousClose': 155.09,\n",
              " 'priceHint': 2,\n",
              " 'priceToBook': 8.386284,\n",
              " 'priceToSalesTrailing12Months': 4.6842394,\n",
              " 'profitMargins': 0.1852,\n",
              " 'quickRatio': 0.441,\n",
              " 'quoteType': 'EQUITY',\n",
              " 'recommendationKey': 'buy',\n",
              " 'recommendationMean': 2.5,\n",
              " 'regularMarketDayHigh': 154.3401,\n",
              " 'regularMarketDayLow': 151.26,\n",
              " 'regularMarketOpen': 153.81,\n",
              " 'regularMarketPreviousClose': 155.09,\n",
              " 'regularMarketPrice': 153.1,\n",
              " 'regularMarketVolume': 2917356,\n",
              " 'returnOnAssets': 0.09514,\n",
              " 'returnOnEquity': 0.31092,\n",
              " 'revenueGrowth': 0.061,\n",
              " 'revenuePerShare': 32.166,\n",
              " 'revenueQuarterlyGrowth': None,\n",
              " 'sector': 'Consumer Defensive',\n",
              " 'sharesOutstanding': 2397070080,\n",
              " 'sharesPercentSharesOut': 0.0058,\n",
              " 'sharesShort': 13800215,\n",
              " 'sharesShortPreviousMonthDate': 1644883200,\n",
              " 'sharesShortPriorMonth': 12314699,\n",
              " 'shortName': 'Procter & Gamble Company (The)',\n",
              " 'shortPercentOfFloat': 0.0058,\n",
              " 'shortRatio': 1.66,\n",
              " 'startDate': None,\n",
              " 'state': 'OH',\n",
              " 'strikePrice': None,\n",
              " 'symbol': 'PG',\n",
              " 'targetHighPrice': 187,\n",
              " 'targetLowPrice': 130,\n",
              " 'targetMeanPrice': 164.77,\n",
              " 'targetMedianPrice': 165,\n",
              " 'threeYearAverageReturn': None,\n",
              " 'toCurrency': None,\n",
              " 'totalAssets': None,\n",
              " 'totalCash': 11544000512,\n",
              " 'totalCashPerShare': 4.816,\n",
              " 'totalDebt': 35653001216,\n",
              " 'totalRevenue': 78346002432,\n",
              " 'tradeable': False,\n",
              " 'trailingAnnualDividendRate': 3.4,\n",
              " 'trailingAnnualDividendYield': 0.021922756,\n",
              " 'trailingEps': 5.653,\n",
              " 'trailingPE': 27.082966,\n",
              " 'trailingPegRatio': 4.534,\n",
              " 'twoHundredDayAverage': 148.16106,\n",
              " 'volume': 2917356,\n",
              " 'volume24Hr': None,\n",
              " 'volumeAllCurrencies': None,\n",
              " 'website': 'https://www.pginvestor.com',\n",
              " 'yield': None,\n",
              " 'ytdReturn': None,\n",
              " 'zip': '45202'}"
            ]
          },
          "metadata": {},
          "execution_count": 18
        }
      ]
    },
    {
      "cell_type": "code",
      "source": [
        "PG=PG.history(start='2019-01-01')\n",
        "PG"
      ],
      "metadata": {
        "colab": {
          "base_uri": "https://localhost:8080/",
          "height": 455
        },
        "id": "ebbsLO2HgXQJ",
        "outputId": "e2513570-d177-487b-d92f-7e97b7b64e84"
      },
      "execution_count": 20,
      "outputs": [
        {
          "output_type": "execute_result",
          "data": {
            "text/plain": [
              "                  Open        High         Low       Close    Volume  \\\n",
              "Date                                                                   \n",
              "2019-01-02   83.834588   84.166133   82.821538   84.064827   9843900   \n",
              "2019-01-03   83.751723   85.188412   83.235983   83.475433   9820200   \n",
              "2019-01-04   83.659621   85.179199   83.226777   85.179199  10565700   \n",
              "2019-01-07   84.645048   85.188408   84.175358   84.838448   9012500   \n",
              "2019-01-08   85.372601   85.731773   84.562162   85.151573   9551300   \n",
              "...                ...         ...         ...         ...       ...   \n",
              "2022-03-29  155.369995  156.470001  154.020004  155.460007   5643400   \n",
              "2022-03-30  152.500000  154.429993  151.940002  154.389999   5779300   \n",
              "2022-03-31  154.100006  154.339996  152.399994  152.800003   7538600   \n",
              "2022-04-01  153.520004  155.460007  152.059998  155.089996   5742600   \n",
              "2022-04-04  153.809998  154.340103  151.259995  153.070007   2927595   \n",
              "\n",
              "            Dividends  Stock Splits  \n",
              "Date                                 \n",
              "2019-01-02        0.0             0  \n",
              "2019-01-03        0.0             0  \n",
              "2019-01-04        0.0             0  \n",
              "2019-01-07        0.0             0  \n",
              "2019-01-08        0.0             0  \n",
              "...               ...           ...  \n",
              "2022-03-29        0.0             0  \n",
              "2022-03-30        0.0             0  \n",
              "2022-03-31        0.0             0  \n",
              "2022-04-01        0.0             0  \n",
              "2022-04-04        0.0             0  \n",
              "\n",
              "[821 rows x 7 columns]"
            ],
            "text/html": [
              "\n",
              "  <div id=\"df-41eeb342-2c9b-424f-a463-8f337190b1b1\">\n",
              "    <div class=\"colab-df-container\">\n",
              "      <div>\n",
              "<style scoped>\n",
              "    .dataframe tbody tr th:only-of-type {\n",
              "        vertical-align: middle;\n",
              "    }\n",
              "\n",
              "    .dataframe tbody tr th {\n",
              "        vertical-align: top;\n",
              "    }\n",
              "\n",
              "    .dataframe thead th {\n",
              "        text-align: right;\n",
              "    }\n",
              "</style>\n",
              "<table border=\"1\" class=\"dataframe\">\n",
              "  <thead>\n",
              "    <tr style=\"text-align: right;\">\n",
              "      <th></th>\n",
              "      <th>Open</th>\n",
              "      <th>High</th>\n",
              "      <th>Low</th>\n",
              "      <th>Close</th>\n",
              "      <th>Volume</th>\n",
              "      <th>Dividends</th>\n",
              "      <th>Stock Splits</th>\n",
              "    </tr>\n",
              "    <tr>\n",
              "      <th>Date</th>\n",
              "      <th></th>\n",
              "      <th></th>\n",
              "      <th></th>\n",
              "      <th></th>\n",
              "      <th></th>\n",
              "      <th></th>\n",
              "      <th></th>\n",
              "    </tr>\n",
              "  </thead>\n",
              "  <tbody>\n",
              "    <tr>\n",
              "      <th>2019-01-02</th>\n",
              "      <td>83.834588</td>\n",
              "      <td>84.166133</td>\n",
              "      <td>82.821538</td>\n",
              "      <td>84.064827</td>\n",
              "      <td>9843900</td>\n",
              "      <td>0.0</td>\n",
              "      <td>0</td>\n",
              "    </tr>\n",
              "    <tr>\n",
              "      <th>2019-01-03</th>\n",
              "      <td>83.751723</td>\n",
              "      <td>85.188412</td>\n",
              "      <td>83.235983</td>\n",
              "      <td>83.475433</td>\n",
              "      <td>9820200</td>\n",
              "      <td>0.0</td>\n",
              "      <td>0</td>\n",
              "    </tr>\n",
              "    <tr>\n",
              "      <th>2019-01-04</th>\n",
              "      <td>83.659621</td>\n",
              "      <td>85.179199</td>\n",
              "      <td>83.226777</td>\n",
              "      <td>85.179199</td>\n",
              "      <td>10565700</td>\n",
              "      <td>0.0</td>\n",
              "      <td>0</td>\n",
              "    </tr>\n",
              "    <tr>\n",
              "      <th>2019-01-07</th>\n",
              "      <td>84.645048</td>\n",
              "      <td>85.188408</td>\n",
              "      <td>84.175358</td>\n",
              "      <td>84.838448</td>\n",
              "      <td>9012500</td>\n",
              "      <td>0.0</td>\n",
              "      <td>0</td>\n",
              "    </tr>\n",
              "    <tr>\n",
              "      <th>2019-01-08</th>\n",
              "      <td>85.372601</td>\n",
              "      <td>85.731773</td>\n",
              "      <td>84.562162</td>\n",
              "      <td>85.151573</td>\n",
              "      <td>9551300</td>\n",
              "      <td>0.0</td>\n",
              "      <td>0</td>\n",
              "    </tr>\n",
              "    <tr>\n",
              "      <th>...</th>\n",
              "      <td>...</td>\n",
              "      <td>...</td>\n",
              "      <td>...</td>\n",
              "      <td>...</td>\n",
              "      <td>...</td>\n",
              "      <td>...</td>\n",
              "      <td>...</td>\n",
              "    </tr>\n",
              "    <tr>\n",
              "      <th>2022-03-29</th>\n",
              "      <td>155.369995</td>\n",
              "      <td>156.470001</td>\n",
              "      <td>154.020004</td>\n",
              "      <td>155.460007</td>\n",
              "      <td>5643400</td>\n",
              "      <td>0.0</td>\n",
              "      <td>0</td>\n",
              "    </tr>\n",
              "    <tr>\n",
              "      <th>2022-03-30</th>\n",
              "      <td>152.500000</td>\n",
              "      <td>154.429993</td>\n",
              "      <td>151.940002</td>\n",
              "      <td>154.389999</td>\n",
              "      <td>5779300</td>\n",
              "      <td>0.0</td>\n",
              "      <td>0</td>\n",
              "    </tr>\n",
              "    <tr>\n",
              "      <th>2022-03-31</th>\n",
              "      <td>154.100006</td>\n",
              "      <td>154.339996</td>\n",
              "      <td>152.399994</td>\n",
              "      <td>152.800003</td>\n",
              "      <td>7538600</td>\n",
              "      <td>0.0</td>\n",
              "      <td>0</td>\n",
              "    </tr>\n",
              "    <tr>\n",
              "      <th>2022-04-01</th>\n",
              "      <td>153.520004</td>\n",
              "      <td>155.460007</td>\n",
              "      <td>152.059998</td>\n",
              "      <td>155.089996</td>\n",
              "      <td>5742600</td>\n",
              "      <td>0.0</td>\n",
              "      <td>0</td>\n",
              "    </tr>\n",
              "    <tr>\n",
              "      <th>2022-04-04</th>\n",
              "      <td>153.809998</td>\n",
              "      <td>154.340103</td>\n",
              "      <td>151.259995</td>\n",
              "      <td>153.070007</td>\n",
              "      <td>2927595</td>\n",
              "      <td>0.0</td>\n",
              "      <td>0</td>\n",
              "    </tr>\n",
              "  </tbody>\n",
              "</table>\n",
              "<p>821 rows × 7 columns</p>\n",
              "</div>\n",
              "      <button class=\"colab-df-convert\" onclick=\"convertToInteractive('df-41eeb342-2c9b-424f-a463-8f337190b1b1')\"\n",
              "              title=\"Convert this dataframe to an interactive table.\"\n",
              "              style=\"display:none;\">\n",
              "        \n",
              "  <svg xmlns=\"http://www.w3.org/2000/svg\" height=\"24px\"viewBox=\"0 0 24 24\"\n",
              "       width=\"24px\">\n",
              "    <path d=\"M0 0h24v24H0V0z\" fill=\"none\"/>\n",
              "    <path d=\"M18.56 5.44l.94 2.06.94-2.06 2.06-.94-2.06-.94-.94-2.06-.94 2.06-2.06.94zm-11 1L8.5 8.5l.94-2.06 2.06-.94-2.06-.94L8.5 2.5l-.94 2.06-2.06.94zm10 10l.94 2.06.94-2.06 2.06-.94-2.06-.94-.94-2.06-.94 2.06-2.06.94z\"/><path d=\"M17.41 7.96l-1.37-1.37c-.4-.4-.92-.59-1.43-.59-.52 0-1.04.2-1.43.59L10.3 9.45l-7.72 7.72c-.78.78-.78 2.05 0 2.83L4 21.41c.39.39.9.59 1.41.59.51 0 1.02-.2 1.41-.59l7.78-7.78 2.81-2.81c.8-.78.8-2.07 0-2.86zM5.41 20L4 18.59l7.72-7.72 1.47 1.35L5.41 20z\"/>\n",
              "  </svg>\n",
              "      </button>\n",
              "      \n",
              "  <style>\n",
              "    .colab-df-container {\n",
              "      display:flex;\n",
              "      flex-wrap:wrap;\n",
              "      gap: 12px;\n",
              "    }\n",
              "\n",
              "    .colab-df-convert {\n",
              "      background-color: #E8F0FE;\n",
              "      border: none;\n",
              "      border-radius: 50%;\n",
              "      cursor: pointer;\n",
              "      display: none;\n",
              "      fill: #1967D2;\n",
              "      height: 32px;\n",
              "      padding: 0 0 0 0;\n",
              "      width: 32px;\n",
              "    }\n",
              "\n",
              "    .colab-df-convert:hover {\n",
              "      background-color: #E2EBFA;\n",
              "      box-shadow: 0px 1px 2px rgba(60, 64, 67, 0.3), 0px 1px 3px 1px rgba(60, 64, 67, 0.15);\n",
              "      fill: #174EA6;\n",
              "    }\n",
              "\n",
              "    [theme=dark] .colab-df-convert {\n",
              "      background-color: #3B4455;\n",
              "      fill: #D2E3FC;\n",
              "    }\n",
              "\n",
              "    [theme=dark] .colab-df-convert:hover {\n",
              "      background-color: #434B5C;\n",
              "      box-shadow: 0px 1px 3px 1px rgba(0, 0, 0, 0.15);\n",
              "      filter: drop-shadow(0px 1px 2px rgba(0, 0, 0, 0.3));\n",
              "      fill: #FFFFFF;\n",
              "    }\n",
              "  </style>\n",
              "\n",
              "      <script>\n",
              "        const buttonEl =\n",
              "          document.querySelector('#df-41eeb342-2c9b-424f-a463-8f337190b1b1 button.colab-df-convert');\n",
              "        buttonEl.style.display =\n",
              "          google.colab.kernel.accessAllowed ? 'block' : 'none';\n",
              "\n",
              "        async function convertToInteractive(key) {\n",
              "          const element = document.querySelector('#df-41eeb342-2c9b-424f-a463-8f337190b1b1');\n",
              "          const dataTable =\n",
              "            await google.colab.kernel.invokeFunction('convertToInteractive',\n",
              "                                                     [key], {});\n",
              "          if (!dataTable) return;\n",
              "\n",
              "          const docLinkHtml = 'Like what you see? Visit the ' +\n",
              "            '<a target=\"_blank\" href=https://colab.research.google.com/notebooks/data_table.ipynb>data table notebook</a>'\n",
              "            + ' to learn more about interactive tables.';\n",
              "          element.innerHTML = '';\n",
              "          dataTable['output_type'] = 'display_data';\n",
              "          await google.colab.output.renderOutput(dataTable, element);\n",
              "          const docLink = document.createElement('div');\n",
              "          docLink.innerHTML = docLinkHtml;\n",
              "          element.appendChild(docLink);\n",
              "        }\n",
              "      </script>\n",
              "    </div>\n",
              "  </div>\n",
              "  "
            ]
          },
          "metadata": {},
          "execution_count": 20
        }
      ]
    },
    {
      "cell_type": "markdown",
      "source": [
        "Simple Rate of **Return**\n",
        "\n",
        "Rate of return % = [(Current Value – Initial Value) / Initial Value] x 100"
      ],
      "metadata": {
        "id": "qthL6dWyiwd9"
      }
    },
    {
      "cell_type": "code",
      "source": [
        "PG[\"Simple_Return\"] = (PG['Close']/PG['Close'].shift(1))-1\n",
        "PG"
      ],
      "metadata": {
        "colab": {
          "base_uri": "https://localhost:8080/",
          "height": 455
        },
        "id": "ch-0cBJOjOsD",
        "outputId": "754b9304-7ced-478b-9aa5-8a31eee47fd5"
      },
      "execution_count": 21,
      "outputs": [
        {
          "output_type": "execute_result",
          "data": {
            "text/plain": [
              "                  Open        High         Low       Close    Volume  \\\n",
              "Date                                                                   \n",
              "2019-01-02   83.834588   84.166133   82.821538   84.064827   9843900   \n",
              "2019-01-03   83.751723   85.188412   83.235983   83.475433   9820200   \n",
              "2019-01-04   83.659621   85.179199   83.226777   85.179199  10565700   \n",
              "2019-01-07   84.645048   85.188408   84.175358   84.838448   9012500   \n",
              "2019-01-08   85.372601   85.731773   84.562162   85.151573   9551300   \n",
              "...                ...         ...         ...         ...       ...   \n",
              "2022-03-29  155.369995  156.470001  154.020004  155.460007   5643400   \n",
              "2022-03-30  152.500000  154.429993  151.940002  154.389999   5779300   \n",
              "2022-03-31  154.100006  154.339996  152.399994  152.800003   7538600   \n",
              "2022-04-01  153.520004  155.460007  152.059998  155.089996   5742600   \n",
              "2022-04-04  153.809998  154.340103  151.259995  153.070007   2927595   \n",
              "\n",
              "            Dividends  Stock Splits  Simple_Return  \n",
              "Date                                                \n",
              "2019-01-02        0.0             0            NaN  \n",
              "2019-01-03        0.0             0      -0.007011  \n",
              "2019-01-04        0.0             0       0.020410  \n",
              "2019-01-07        0.0             0      -0.004000  \n",
              "2019-01-08        0.0             0       0.003691  \n",
              "...               ...           ...            ...  \n",
              "2022-03-29        0.0             0       0.010268  \n",
              "2022-03-30        0.0             0      -0.006883  \n",
              "2022-03-31        0.0             0      -0.010299  \n",
              "2022-04-01        0.0             0       0.014987  \n",
              "2022-04-04        0.0             0      -0.013025  \n",
              "\n",
              "[821 rows x 8 columns]"
            ],
            "text/html": [
              "\n",
              "  <div id=\"df-1e661cb8-4690-48a0-aafd-8278296b4fbd\">\n",
              "    <div class=\"colab-df-container\">\n",
              "      <div>\n",
              "<style scoped>\n",
              "    .dataframe tbody tr th:only-of-type {\n",
              "        vertical-align: middle;\n",
              "    }\n",
              "\n",
              "    .dataframe tbody tr th {\n",
              "        vertical-align: top;\n",
              "    }\n",
              "\n",
              "    .dataframe thead th {\n",
              "        text-align: right;\n",
              "    }\n",
              "</style>\n",
              "<table border=\"1\" class=\"dataframe\">\n",
              "  <thead>\n",
              "    <tr style=\"text-align: right;\">\n",
              "      <th></th>\n",
              "      <th>Open</th>\n",
              "      <th>High</th>\n",
              "      <th>Low</th>\n",
              "      <th>Close</th>\n",
              "      <th>Volume</th>\n",
              "      <th>Dividends</th>\n",
              "      <th>Stock Splits</th>\n",
              "      <th>Simple_Return</th>\n",
              "    </tr>\n",
              "    <tr>\n",
              "      <th>Date</th>\n",
              "      <th></th>\n",
              "      <th></th>\n",
              "      <th></th>\n",
              "      <th></th>\n",
              "      <th></th>\n",
              "      <th></th>\n",
              "      <th></th>\n",
              "      <th></th>\n",
              "    </tr>\n",
              "  </thead>\n",
              "  <tbody>\n",
              "    <tr>\n",
              "      <th>2019-01-02</th>\n",
              "      <td>83.834588</td>\n",
              "      <td>84.166133</td>\n",
              "      <td>82.821538</td>\n",
              "      <td>84.064827</td>\n",
              "      <td>9843900</td>\n",
              "      <td>0.0</td>\n",
              "      <td>0</td>\n",
              "      <td>NaN</td>\n",
              "    </tr>\n",
              "    <tr>\n",
              "      <th>2019-01-03</th>\n",
              "      <td>83.751723</td>\n",
              "      <td>85.188412</td>\n",
              "      <td>83.235983</td>\n",
              "      <td>83.475433</td>\n",
              "      <td>9820200</td>\n",
              "      <td>0.0</td>\n",
              "      <td>0</td>\n",
              "      <td>-0.007011</td>\n",
              "    </tr>\n",
              "    <tr>\n",
              "      <th>2019-01-04</th>\n",
              "      <td>83.659621</td>\n",
              "      <td>85.179199</td>\n",
              "      <td>83.226777</td>\n",
              "      <td>85.179199</td>\n",
              "      <td>10565700</td>\n",
              "      <td>0.0</td>\n",
              "      <td>0</td>\n",
              "      <td>0.020410</td>\n",
              "    </tr>\n",
              "    <tr>\n",
              "      <th>2019-01-07</th>\n",
              "      <td>84.645048</td>\n",
              "      <td>85.188408</td>\n",
              "      <td>84.175358</td>\n",
              "      <td>84.838448</td>\n",
              "      <td>9012500</td>\n",
              "      <td>0.0</td>\n",
              "      <td>0</td>\n",
              "      <td>-0.004000</td>\n",
              "    </tr>\n",
              "    <tr>\n",
              "      <th>2019-01-08</th>\n",
              "      <td>85.372601</td>\n",
              "      <td>85.731773</td>\n",
              "      <td>84.562162</td>\n",
              "      <td>85.151573</td>\n",
              "      <td>9551300</td>\n",
              "      <td>0.0</td>\n",
              "      <td>0</td>\n",
              "      <td>0.003691</td>\n",
              "    </tr>\n",
              "    <tr>\n",
              "      <th>...</th>\n",
              "      <td>...</td>\n",
              "      <td>...</td>\n",
              "      <td>...</td>\n",
              "      <td>...</td>\n",
              "      <td>...</td>\n",
              "      <td>...</td>\n",
              "      <td>...</td>\n",
              "      <td>...</td>\n",
              "    </tr>\n",
              "    <tr>\n",
              "      <th>2022-03-29</th>\n",
              "      <td>155.369995</td>\n",
              "      <td>156.470001</td>\n",
              "      <td>154.020004</td>\n",
              "      <td>155.460007</td>\n",
              "      <td>5643400</td>\n",
              "      <td>0.0</td>\n",
              "      <td>0</td>\n",
              "      <td>0.010268</td>\n",
              "    </tr>\n",
              "    <tr>\n",
              "      <th>2022-03-30</th>\n",
              "      <td>152.500000</td>\n",
              "      <td>154.429993</td>\n",
              "      <td>151.940002</td>\n",
              "      <td>154.389999</td>\n",
              "      <td>5779300</td>\n",
              "      <td>0.0</td>\n",
              "      <td>0</td>\n",
              "      <td>-0.006883</td>\n",
              "    </tr>\n",
              "    <tr>\n",
              "      <th>2022-03-31</th>\n",
              "      <td>154.100006</td>\n",
              "      <td>154.339996</td>\n",
              "      <td>152.399994</td>\n",
              "      <td>152.800003</td>\n",
              "      <td>7538600</td>\n",
              "      <td>0.0</td>\n",
              "      <td>0</td>\n",
              "      <td>-0.010299</td>\n",
              "    </tr>\n",
              "    <tr>\n",
              "      <th>2022-04-01</th>\n",
              "      <td>153.520004</td>\n",
              "      <td>155.460007</td>\n",
              "      <td>152.059998</td>\n",
              "      <td>155.089996</td>\n",
              "      <td>5742600</td>\n",
              "      <td>0.0</td>\n",
              "      <td>0</td>\n",
              "      <td>0.014987</td>\n",
              "    </tr>\n",
              "    <tr>\n",
              "      <th>2022-04-04</th>\n",
              "      <td>153.809998</td>\n",
              "      <td>154.340103</td>\n",
              "      <td>151.259995</td>\n",
              "      <td>153.070007</td>\n",
              "      <td>2927595</td>\n",
              "      <td>0.0</td>\n",
              "      <td>0</td>\n",
              "      <td>-0.013025</td>\n",
              "    </tr>\n",
              "  </tbody>\n",
              "</table>\n",
              "<p>821 rows × 8 columns</p>\n",
              "</div>\n",
              "      <button class=\"colab-df-convert\" onclick=\"convertToInteractive('df-1e661cb8-4690-48a0-aafd-8278296b4fbd')\"\n",
              "              title=\"Convert this dataframe to an interactive table.\"\n",
              "              style=\"display:none;\">\n",
              "        \n",
              "  <svg xmlns=\"http://www.w3.org/2000/svg\" height=\"24px\"viewBox=\"0 0 24 24\"\n",
              "       width=\"24px\">\n",
              "    <path d=\"M0 0h24v24H0V0z\" fill=\"none\"/>\n",
              "    <path d=\"M18.56 5.44l.94 2.06.94-2.06 2.06-.94-2.06-.94-.94-2.06-.94 2.06-2.06.94zm-11 1L8.5 8.5l.94-2.06 2.06-.94-2.06-.94L8.5 2.5l-.94 2.06-2.06.94zm10 10l.94 2.06.94-2.06 2.06-.94-2.06-.94-.94-2.06-.94 2.06-2.06.94z\"/><path d=\"M17.41 7.96l-1.37-1.37c-.4-.4-.92-.59-1.43-.59-.52 0-1.04.2-1.43.59L10.3 9.45l-7.72 7.72c-.78.78-.78 2.05 0 2.83L4 21.41c.39.39.9.59 1.41.59.51 0 1.02-.2 1.41-.59l7.78-7.78 2.81-2.81c.8-.78.8-2.07 0-2.86zM5.41 20L4 18.59l7.72-7.72 1.47 1.35L5.41 20z\"/>\n",
              "  </svg>\n",
              "      </button>\n",
              "      \n",
              "  <style>\n",
              "    .colab-df-container {\n",
              "      display:flex;\n",
              "      flex-wrap:wrap;\n",
              "      gap: 12px;\n",
              "    }\n",
              "\n",
              "    .colab-df-convert {\n",
              "      background-color: #E8F0FE;\n",
              "      border: none;\n",
              "      border-radius: 50%;\n",
              "      cursor: pointer;\n",
              "      display: none;\n",
              "      fill: #1967D2;\n",
              "      height: 32px;\n",
              "      padding: 0 0 0 0;\n",
              "      width: 32px;\n",
              "    }\n",
              "\n",
              "    .colab-df-convert:hover {\n",
              "      background-color: #E2EBFA;\n",
              "      box-shadow: 0px 1px 2px rgba(60, 64, 67, 0.3), 0px 1px 3px 1px rgba(60, 64, 67, 0.15);\n",
              "      fill: #174EA6;\n",
              "    }\n",
              "\n",
              "    [theme=dark] .colab-df-convert {\n",
              "      background-color: #3B4455;\n",
              "      fill: #D2E3FC;\n",
              "    }\n",
              "\n",
              "    [theme=dark] .colab-df-convert:hover {\n",
              "      background-color: #434B5C;\n",
              "      box-shadow: 0px 1px 3px 1px rgba(0, 0, 0, 0.15);\n",
              "      filter: drop-shadow(0px 1px 2px rgba(0, 0, 0, 0.3));\n",
              "      fill: #FFFFFF;\n",
              "    }\n",
              "  </style>\n",
              "\n",
              "      <script>\n",
              "        const buttonEl =\n",
              "          document.querySelector('#df-1e661cb8-4690-48a0-aafd-8278296b4fbd button.colab-df-convert');\n",
              "        buttonEl.style.display =\n",
              "          google.colab.kernel.accessAllowed ? 'block' : 'none';\n",
              "\n",
              "        async function convertToInteractive(key) {\n",
              "          const element = document.querySelector('#df-1e661cb8-4690-48a0-aafd-8278296b4fbd');\n",
              "          const dataTable =\n",
              "            await google.colab.kernel.invokeFunction('convertToInteractive',\n",
              "                                                     [key], {});\n",
              "          if (!dataTable) return;\n",
              "\n",
              "          const docLinkHtml = 'Like what you see? Visit the ' +\n",
              "            '<a target=\"_blank\" href=https://colab.research.google.com/notebooks/data_table.ipynb>data table notebook</a>'\n",
              "            + ' to learn more about interactive tables.';\n",
              "          element.innerHTML = '';\n",
              "          dataTable['output_type'] = 'display_data';\n",
              "          await google.colab.output.renderOutput(dataTable, element);\n",
              "          const docLink = document.createElement('div');\n",
              "          docLink.innerHTML = docLinkHtml;\n",
              "          element.appendChild(docLink);\n",
              "        }\n",
              "      </script>\n",
              "    </div>\n",
              "  </div>\n",
              "  "
            ]
          },
          "metadata": {},
          "execution_count": 21
        }
      ]
    },
    {
      "cell_type": "code",
      "source": [
        "PG.drop(columns=['Open',\t'High',\t'Low','Volume',\"Dividends\",'Stock Splits'],inplace=True)\n",
        "PG"
      ],
      "metadata": {
        "colab": {
          "base_uri": "https://localhost:8080/",
          "height": 455
        },
        "id": "zklIO23ejOwC",
        "outputId": "be6af617-029d-4d3b-bf37-35f69fb4a27b"
      },
      "execution_count": 23,
      "outputs": [
        {
          "output_type": "execute_result",
          "data": {
            "text/plain": [
              "                 Close  Simple_Return\n",
              "Date                                 \n",
              "2019-01-02   84.064827            NaN\n",
              "2019-01-03   83.475433      -0.007011\n",
              "2019-01-04   85.179199       0.020410\n",
              "2019-01-07   84.838448      -0.004000\n",
              "2019-01-08   85.151573       0.003691\n",
              "...                ...            ...\n",
              "2022-03-29  155.460007       0.010268\n",
              "2022-03-30  154.389999      -0.006883\n",
              "2022-03-31  152.800003      -0.010299\n",
              "2022-04-01  155.089996       0.014987\n",
              "2022-04-04  153.070007      -0.013025\n",
              "\n",
              "[821 rows x 2 columns]"
            ],
            "text/html": [
              "\n",
              "  <div id=\"df-3171f8ff-6e19-4aa0-bd5e-1eaa1ab3cc0d\">\n",
              "    <div class=\"colab-df-container\">\n",
              "      <div>\n",
              "<style scoped>\n",
              "    .dataframe tbody tr th:only-of-type {\n",
              "        vertical-align: middle;\n",
              "    }\n",
              "\n",
              "    .dataframe tbody tr th {\n",
              "        vertical-align: top;\n",
              "    }\n",
              "\n",
              "    .dataframe thead th {\n",
              "        text-align: right;\n",
              "    }\n",
              "</style>\n",
              "<table border=\"1\" class=\"dataframe\">\n",
              "  <thead>\n",
              "    <tr style=\"text-align: right;\">\n",
              "      <th></th>\n",
              "      <th>Close</th>\n",
              "      <th>Simple_Return</th>\n",
              "    </tr>\n",
              "    <tr>\n",
              "      <th>Date</th>\n",
              "      <th></th>\n",
              "      <th></th>\n",
              "    </tr>\n",
              "  </thead>\n",
              "  <tbody>\n",
              "    <tr>\n",
              "      <th>2019-01-02</th>\n",
              "      <td>84.064827</td>\n",
              "      <td>NaN</td>\n",
              "    </tr>\n",
              "    <tr>\n",
              "      <th>2019-01-03</th>\n",
              "      <td>83.475433</td>\n",
              "      <td>-0.007011</td>\n",
              "    </tr>\n",
              "    <tr>\n",
              "      <th>2019-01-04</th>\n",
              "      <td>85.179199</td>\n",
              "      <td>0.020410</td>\n",
              "    </tr>\n",
              "    <tr>\n",
              "      <th>2019-01-07</th>\n",
              "      <td>84.838448</td>\n",
              "      <td>-0.004000</td>\n",
              "    </tr>\n",
              "    <tr>\n",
              "      <th>2019-01-08</th>\n",
              "      <td>85.151573</td>\n",
              "      <td>0.003691</td>\n",
              "    </tr>\n",
              "    <tr>\n",
              "      <th>...</th>\n",
              "      <td>...</td>\n",
              "      <td>...</td>\n",
              "    </tr>\n",
              "    <tr>\n",
              "      <th>2022-03-29</th>\n",
              "      <td>155.460007</td>\n",
              "      <td>0.010268</td>\n",
              "    </tr>\n",
              "    <tr>\n",
              "      <th>2022-03-30</th>\n",
              "      <td>154.389999</td>\n",
              "      <td>-0.006883</td>\n",
              "    </tr>\n",
              "    <tr>\n",
              "      <th>2022-03-31</th>\n",
              "      <td>152.800003</td>\n",
              "      <td>-0.010299</td>\n",
              "    </tr>\n",
              "    <tr>\n",
              "      <th>2022-04-01</th>\n",
              "      <td>155.089996</td>\n",
              "      <td>0.014987</td>\n",
              "    </tr>\n",
              "    <tr>\n",
              "      <th>2022-04-04</th>\n",
              "      <td>153.070007</td>\n",
              "      <td>-0.013025</td>\n",
              "    </tr>\n",
              "  </tbody>\n",
              "</table>\n",
              "<p>821 rows × 2 columns</p>\n",
              "</div>\n",
              "      <button class=\"colab-df-convert\" onclick=\"convertToInteractive('df-3171f8ff-6e19-4aa0-bd5e-1eaa1ab3cc0d')\"\n",
              "              title=\"Convert this dataframe to an interactive table.\"\n",
              "              style=\"display:none;\">\n",
              "        \n",
              "  <svg xmlns=\"http://www.w3.org/2000/svg\" height=\"24px\"viewBox=\"0 0 24 24\"\n",
              "       width=\"24px\">\n",
              "    <path d=\"M0 0h24v24H0V0z\" fill=\"none\"/>\n",
              "    <path d=\"M18.56 5.44l.94 2.06.94-2.06 2.06-.94-2.06-.94-.94-2.06-.94 2.06-2.06.94zm-11 1L8.5 8.5l.94-2.06 2.06-.94-2.06-.94L8.5 2.5l-.94 2.06-2.06.94zm10 10l.94 2.06.94-2.06 2.06-.94-2.06-.94-.94-2.06-.94 2.06-2.06.94z\"/><path d=\"M17.41 7.96l-1.37-1.37c-.4-.4-.92-.59-1.43-.59-.52 0-1.04.2-1.43.59L10.3 9.45l-7.72 7.72c-.78.78-.78 2.05 0 2.83L4 21.41c.39.39.9.59 1.41.59.51 0 1.02-.2 1.41-.59l7.78-7.78 2.81-2.81c.8-.78.8-2.07 0-2.86zM5.41 20L4 18.59l7.72-7.72 1.47 1.35L5.41 20z\"/>\n",
              "  </svg>\n",
              "      </button>\n",
              "      \n",
              "  <style>\n",
              "    .colab-df-container {\n",
              "      display:flex;\n",
              "      flex-wrap:wrap;\n",
              "      gap: 12px;\n",
              "    }\n",
              "\n",
              "    .colab-df-convert {\n",
              "      background-color: #E8F0FE;\n",
              "      border: none;\n",
              "      border-radius: 50%;\n",
              "      cursor: pointer;\n",
              "      display: none;\n",
              "      fill: #1967D2;\n",
              "      height: 32px;\n",
              "      padding: 0 0 0 0;\n",
              "      width: 32px;\n",
              "    }\n",
              "\n",
              "    .colab-df-convert:hover {\n",
              "      background-color: #E2EBFA;\n",
              "      box-shadow: 0px 1px 2px rgba(60, 64, 67, 0.3), 0px 1px 3px 1px rgba(60, 64, 67, 0.15);\n",
              "      fill: #174EA6;\n",
              "    }\n",
              "\n",
              "    [theme=dark] .colab-df-convert {\n",
              "      background-color: #3B4455;\n",
              "      fill: #D2E3FC;\n",
              "    }\n",
              "\n",
              "    [theme=dark] .colab-df-convert:hover {\n",
              "      background-color: #434B5C;\n",
              "      box-shadow: 0px 1px 3px 1px rgba(0, 0, 0, 0.15);\n",
              "      filter: drop-shadow(0px 1px 2px rgba(0, 0, 0, 0.3));\n",
              "      fill: #FFFFFF;\n",
              "    }\n",
              "  </style>\n",
              "\n",
              "      <script>\n",
              "        const buttonEl =\n",
              "          document.querySelector('#df-3171f8ff-6e19-4aa0-bd5e-1eaa1ab3cc0d button.colab-df-convert');\n",
              "        buttonEl.style.display =\n",
              "          google.colab.kernel.accessAllowed ? 'block' : 'none';\n",
              "\n",
              "        async function convertToInteractive(key) {\n",
              "          const element = document.querySelector('#df-3171f8ff-6e19-4aa0-bd5e-1eaa1ab3cc0d');\n",
              "          const dataTable =\n",
              "            await google.colab.kernel.invokeFunction('convertToInteractive',\n",
              "                                                     [key], {});\n",
              "          if (!dataTable) return;\n",
              "\n",
              "          const docLinkHtml = 'Like what you see? Visit the ' +\n",
              "            '<a target=\"_blank\" href=https://colab.research.google.com/notebooks/data_table.ipynb>data table notebook</a>'\n",
              "            + ' to learn more about interactive tables.';\n",
              "          element.innerHTML = '';\n",
              "          dataTable['output_type'] = 'display_data';\n",
              "          await google.colab.output.renderOutput(dataTable, element);\n",
              "          const docLink = document.createElement('div');\n",
              "          docLink.innerHTML = docLinkHtml;\n",
              "          element.appendChild(docLink);\n",
              "        }\n",
              "      </script>\n",
              "    </div>\n",
              "  </div>\n",
              "  "
            ]
          },
          "metadata": {},
          "execution_count": 23
        }
      ]
    },
    {
      "cell_type": "markdown",
      "source": [
        "Graph of simple_return"
      ],
      "metadata": {
        "id": "FPkijzfNlz9x"
      }
    },
    {
      "cell_type": "code",
      "source": [
        "PG['Simple_Return'].plot(figsize=(12,8))\n",
        "plt.show()"
      ],
      "metadata": {
        "colab": {
          "base_uri": "https://localhost:8080/",
          "height": 473
        },
        "id": "PqyPPxVcl3A5",
        "outputId": "42584f91-2738-4f97-cb47-ea0fd6f6f093"
      },
      "execution_count": 25,
      "outputs": [
        {
          "output_type": "display_data",
          "data": {
            "text/plain": [
              "<Figure size 864x576 with 1 Axes>"
            ],
            "image/png": "[encoded data removed]"
          },
          "metadata": {
            "needs_background": "light"
          }
        }
      ]
    },
    {
      "cell_type": "code",
      "source": [
        ""
      ],
      "metadata": {
        "id": "VrZv6rqVjO1c"
      },
      "execution_count": 23,
      "outputs": []
    },
    {
      "cell_type": "markdown",
      "source": [
        "**Average daily return**"
      ],
      "metadata": {
        "id": "gvThADNPmijV"
      }
    },
    {
      "cell_type": "code",
      "source": [
        "avg_returns_d = PG['Simple_Return'].mean()\n",
        "avg_returns_d"
      ],
      "metadata": {
        "colab": {
          "base_uri": "https://localhost:8080/"
        },
        "id": "15i6HeAumopX",
        "outputId": "f3a846c3-4034-4a0b-e4f6-36a5676659e8"
      },
      "execution_count": 28,
      "outputs": [
        {
          "output_type": "execute_result",
          "data": {
            "text/plain": [
              "0.000831807000348267"
            ]
          },
          "metadata": {},
          "execution_count": 28
        }
      ]
    },
    {
      "cell_type": "code",
      "source": [
        ""
      ],
      "metadata": {
        "id": "D66tz4q8moz_"
      },
      "execution_count": null,
      "outputs": []
    },
    {
      "cell_type": "markdown",
      "source": [
        "**Average annual returns¶**"
      ],
      "metadata": {
        "id": "4fkiHnotm0Uo"
      }
    },
    {
      "cell_type": "code",
      "source": [
        "##very very less hence investors interested in annual returns\n",
        "\n",
        "avg_returns_a = PG['Simple_Return'].mean()*250\n",
        "avg_returns_a"
      ],
      "metadata": {
        "colab": {
          "base_uri": "https://localhost:8080/"
        },
        "id": "5JgQe5Ahm2GR",
        "outputId": "69f2484d-b641-43d1-c0ad-65bb8c1d0d53"
      },
      "execution_count": 30,
      "outputs": [
        {
          "output_type": "execute_result",
          "data": {
            "text/plain": [
              "0.20795175008706676"
            ]
          },
          "metadata": {},
          "execution_count": 30
        }
      ]
    },
    {
      "cell_type": "code",
      "source": [
        "0.20795175008706676*100"
      ],
      "metadata": {
        "colab": {
          "base_uri": "https://localhost:8080/"
        },
        "id": "tZFCBMuNnh0-",
        "outputId": "8768cfd8-e213-4870-a5d6-12513c3d794e"
      },
      "execution_count": 41,
      "outputs": [
        {
          "output_type": "execute_result",
          "data": {
            "text/plain": [
              "20.795175008706675"
            ]
          },
          "metadata": {},
          "execution_count": 41
        }
      ]
    },
    {
      "cell_type": "code",
      "source": [
        "print (str(round(avg_returns_a,3) *100) + '%')"
      ],
      "metadata": {
        "colab": {
          "base_uri": "https://localhost:8080/"
        },
        "id": "lkyz-26Mm2ZQ",
        "outputId": "773798d8-6d00-4bd0-8a83-2ee8ecdc304a"
      },
      "execution_count": 43,
      "outputs": [
        {
          "output_type": "stream",
          "name": "stdout",
          "text": [
            "20.8%\n"
          ]
        }
      ]
    },
    {
      "cell_type": "code",
      "source": [
        ""
      ],
      "metadata": {
        "id": "odX2TtL2nv8I"
      },
      "execution_count": null,
      "outputs": []
    },
    {
      "cell_type": "markdown",
      "source": [
        "**Log returns**"
      ],
      "metadata": {
        "id": "F1xUmSuYnwkw"
      }
    },
    {
      "cell_type": "markdown",
      "source": [
        "#log returns are useful for single stock \n",
        "#simple returns are useful for multiple stocks\n",
        "\n",
        "#formula of log returns = ln(p1/p0)= ln p1-ln p0"
      ],
      "metadata": {
        "id": "CEbma_DNn6FJ"
      }
    },
    {
      "cell_type": "code",
      "source": [
        "PG['Log_Returns'] = np.log((PG['Close'])/PG['Close'].shift(1))\n",
        "PG"
      ],
      "metadata": {
        "colab": {
          "base_uri": "https://localhost:8080/",
          "height": 184
        },
        "id": "kRLGJ2X8nwC4",
        "outputId": "0b96bc5a-ddd1-452e-8f8c-eedc0c1d2d1a"
      },
      "execution_count": 1,
      "outputs": [
        {
          "output_type": "error",
          "ename": "NameError",
          "evalue": "ignored",
          "traceback": [
            "\u001b[0;31m---------------------------------------------------------------------------\u001b[0m",
            "\u001b[0;31mNameError\u001b[0m                                 Traceback (most recent call last)",
            "\u001b[0;32m<ipython-input-1-3620aed2ba37>\u001b[0m in \u001b[0;36m<module>\u001b[0;34m()\u001b[0m\n\u001b[0;32m----> 1\u001b[0;31m \u001b[0mPG\u001b[0m\u001b[0;34m[\u001b[0m\u001b[0;34m'Log_Returns'\u001b[0m\u001b[0;34m]\u001b[0m \u001b[0;34m=\u001b[0m \u001b[0mnp\u001b[0m\u001b[0;34m.\u001b[0m\u001b[0mlog\u001b[0m\u001b[0;34m(\u001b[0m\u001b[0;34m(\u001b[0m\u001b[0mPG\u001b[0m\u001b[0;34m[\u001b[0m\u001b[0;34m'Close'\u001b[0m\u001b[0;34m]\u001b[0m\u001b[0;34m)\u001b[0m\u001b[0;34m/\u001b[0m\u001b[0mPG\u001b[0m\u001b[0;34m[\u001b[0m\u001b[0;34m'Close'\u001b[0m\u001b[0;34m]\u001b[0m\u001b[0;34m.\u001b[0m\u001b[0mshift\u001b[0m\u001b[0;34m(\u001b[0m\u001b[0;36m1\u001b[0m\u001b[0;34m)\u001b[0m\u001b[0;34m)\u001b[0m\u001b[0;34m\u001b[0m\u001b[0;34m\u001b[0m\u001b[0m\n\u001b[0m\u001b[1;32m      2\u001b[0m \u001b[0mPG\u001b[0m\u001b[0;34m\u001b[0m\u001b[0;34m\u001b[0m\u001b[0m\n",
            "\u001b[0;31mNameError\u001b[0m: name 'np' is not defined"
          ]
        }
      ]
    },
    {
      "cell_type": "code",
      "source": [
        "PG['Log_Returns'].plot(figsize=(12,8))\n",
        "plt.show()"
      ],
      "metadata": {
        "id": "tdTu3ebWtjvX"
      },
      "execution_count": null,
      "outputs": []
    },
    {
      "cell_type": "code",
      "source": [
        "log_returns_d = PG['Log_Returns'].mean()#avg daily log returns\n",
        "log_returns_d"
      ],
      "metadata": {
        "id": "9ODQZuDJtjyD"
      },
      "execution_count": null,
      "outputs": []
    },
    {
      "cell_type": "code",
      "source": [
        "log_returns_a = PG[\"log_returns\"].mean()*250#average annual log returns\n",
        "log_returns_a"
      ],
      "metadata": {
        "id": "mQfE0oaht-gc"
      },
      "execution_count": null,
      "outputs": []
    },
    {
      "cell_type": "code",
      "source": [
        "round(log_returns_a,5)*100"
      ],
      "metadata": {
        "id": "ljnIpmFJt-jh"
      },
      "execution_count": null,
      "outputs": []
    },
    {
      "cell_type": "code",
      "source": [
        "print (str(round(log_returns_a, 3)*100) + '%')\\"
      ],
      "metadata": {
        "id": "Kzk2h-NkuKTJ"
      },
      "execution_count": null,
      "outputs": []
    }
  ]
}